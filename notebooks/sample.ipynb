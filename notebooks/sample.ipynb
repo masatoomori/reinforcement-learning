{
 "cells": [
  {
   "cell_type": "code",
   "execution_count": null,
   "metadata": {},
   "outputs": [],
   "source": [
    "import os\n",
    "\n",
    "from srl import runner\n",
    "\n",
    "# --- env & algorithm load\n",
    "from srl.envs import grid  # isort: skip # noqa F401\n",
    "from srl.algorithms import ql  # isort: skip"
   ]
  },
  {
   "cell_type": "code",
   "execution_count": null,
   "metadata": {},
   "outputs": [],
   "source": [
    "IMAGE_DIR = os.path.join(os.getcwd(), 'images')\n",
    "os.makedirs(IMAGE_DIR, exist_ok=True)"
   ]
  },
  {
   "cell_type": "code",
   "execution_count": null,
   "metadata": {},
   "outputs": [],
   "source": [
    "def main():\n",
    "    # create config\n",
    "    config = runner.Config(\"Grid\", ql.Config())\n",
    "\n",
    "    # train\n",
    "    parameter, _, _ = runner.train(config, timeout=10)\n",
    "\n",
    "    # evaluate\n",
    "    rewards = runner.evaluate(config, parameter, max_episodes=30)\n",
    "    print(f\"evaluate episodes: {rewards}\")\n",
    "\n",
    "    # --- animation sample\n",
    "    #  (Run \"pip install opencv-python pillow matplotlib pygame\" to use the animation)\n",
    "    render = runner.animation(config, parameter)\n",
    "    render.create_anime().save(os.path.join(IMAGE_DIR, \"Grid.gif\"))"
   ]
  },
  {
   "cell_type": "code",
   "execution_count": null,
   "metadata": {},
   "outputs": [],
   "source": [
    "main()"
   ]
  }
 ],
 "metadata": {
  "kernelspec": {
   "display_name": ".venv",
   "language": "python",
   "name": "python3"
  },
  "language_info": {
   "codemirror_mode": {
    "name": "ipython",
    "version": 3
   },
   "file_extension": ".py",
   "mimetype": "text/x-python",
   "name": "python",
   "nbconvert_exporter": "python",
   "pygments_lexer": "ipython3",
   "version": "3.11.4"
  },
  "orig_nbformat": 4
 },
 "nbformat": 4,
 "nbformat_minor": 2
}
